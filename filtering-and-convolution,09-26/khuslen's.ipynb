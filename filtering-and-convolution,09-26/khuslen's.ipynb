{
 "cells": [
  {
   "cell_type": "code",
   "execution_count": 1,
   "metadata": {},
   "outputs": [],
   "source": [
    "from PIL import Image"
   ]
  },
  {
   "cell_type": "code",
   "execution_count": 2,
   "metadata": {},
   "outputs": [],
   "source": [
    "import os\n",
    "cwd = os.getcwd()"
   ]
  },
  {
   "cell_type": "code",
   "execution_count": 3,
   "metadata": {},
   "outputs": [],
   "source": [
    "import numpy as np"
   ]
  },
  {
   "cell_type": "code",
   "execution_count": 4,
   "metadata": {},
   "outputs": [],
   "source": [
    "im = np.array(Image.open(\"/home/aldo/Pictures/image processing.png\"))"
   ]
  },
  {
   "cell_type": "code",
   "execution_count": 5,
   "metadata": {},
   "outputs": [
    {
     "data": {
      "text/plain": [
       "(100, 100, 3)"
      ]
     },
     "execution_count": 5,
     "metadata": {},
     "output_type": "execute_result"
    }
   ],
   "source": [
    "im.shape"
   ]
  },
  {
   "cell_type": "code",
   "execution_count": 6,
   "metadata": {},
   "outputs": [],
   "source": [
    "data = np.asarray(im)"
   ]
  },
  {
   "cell_type": "markdown",
   "metadata": {},
   "source": [
    "## Seminar tasks of week 2"
   ]
  },
  {
   "cell_type": "code",
   "execution_count": 7,
   "metadata": {},
   "outputs": [],
   "source": [
    "# convolution"
   ]
  },
  {
   "cell_type": "code",
   "execution_count": 8,
   "metadata": {},
   "outputs": [],
   "source": [
    "input = [0, 1, 2, 3, 4]\n",
    "kernel = [2, 4, -1]"
   ]
  },
  {
   "cell_type": "code",
   "execution_count": 9,
   "metadata": {},
   "outputs": [],
   "source": [
    "def pading(a,b):\n",
    "    tmp =len(b)-1\n",
    "    front = [0]* (tmp//2)\n",
    "    back = [0]* (tmp- (tmp//2))\n",
    "    return front + a + back"
   ]
  },
  {
   "cell_type": "code",
   "execution_count": 10,
   "metadata": {},
   "outputs": [
    {
     "data": {
      "text/plain": [
       "3"
      ]
     },
     "execution_count": 10,
     "metadata": {},
     "output_type": "execute_result"
    }
   ],
   "source": [
    "len(kernel)"
   ]
  },
  {
   "cell_type": "code",
   "execution_count": 11,
   "metadata": {},
   "outputs": [],
   "source": [
    "padded = pading(input, kernel)"
   ]
  },
  {
   "cell_type": "code",
   "execution_count": 12,
   "metadata": {},
   "outputs": [],
   "source": [
    "convolution=[]\n",
    "for i in range (len(input)):\n",
    "    sum = 0\n",
    "    for j in range(len(kernel)):\n",
    "        sum+=padded[i+j]*kernel[j]\n",
    "    convolution+=[sum]"
   ]
  },
  {
   "cell_type": "code",
   "execution_count": 13,
   "metadata": {},
   "outputs": [
    {
     "data": {
      "text/plain": [
       "[-1, 2, 7, 12, 22]"
      ]
     },
     "execution_count": 13,
     "metadata": {},
     "output_type": "execute_result"
    }
   ],
   "source": [
    "convolution"
   ]
  },
  {
   "cell_type": "code",
   "execution_count": 14,
   "metadata": {},
   "outputs": [],
   "source": [
    "a = np.array(input)\n",
    "b = np.array(kernel)"
   ]
  },
  {
   "cell_type": "code",
   "execution_count": 15,
   "metadata": {},
   "outputs": [
    {
     "data": {
      "text/plain": [
       "array([ 0,  4, -2])"
      ]
     },
     "execution_count": 15,
     "metadata": {},
     "output_type": "execute_result"
    }
   ],
   "source": [
    "np.multiply(a[0:3],b)"
   ]
  },
  {
   "cell_type": "code",
   "execution_count": 16,
   "metadata": {},
   "outputs": [
    {
     "data": {
      "text/plain": [
       "10"
      ]
     },
     "execution_count": 16,
     "metadata": {},
     "output_type": "execute_result"
    }
   ],
   "source": [
    "np.sum(a)"
   ]
  },
  {
   "cell_type": "code",
   "execution_count": 17,
   "metadata": {},
   "outputs": [],
   "source": [
    "g=[]\n",
    "for i in range(len(a)-len(b)+1):\n",
    "    tmp = np.multiply(a[i:i+len(b)],b)\n",
    "    g+=[np.sum(tmp)]"
   ]
  },
  {
   "cell_type": "code",
   "execution_count": 18,
   "metadata": {},
   "outputs": [
    {
     "data": {
      "text/plain": [
       "[2, 7, 12]"
      ]
     },
     "execution_count": 18,
     "metadata": {},
     "output_type": "execute_result"
    }
   ],
   "source": [
    "g"
   ]
  },
  {
   "cell_type": "code",
   "execution_count": 19,
   "metadata": {},
   "outputs": [
    {
     "data": {
      "text/plain": [
       "array([ 0,  4, -2])"
      ]
     },
     "execution_count": 19,
     "metadata": {},
     "output_type": "execute_result"
    }
   ],
   "source": [
    "a[0:3]*b"
   ]
  },
  {
   "cell_type": "code",
   "execution_count": 20,
   "metadata": {},
   "outputs": [],
   "source": [
    "# 2d now"
   ]
  },
  {
   "cell_type": "code",
   "execution_count": 21,
   "metadata": {},
   "outputs": [],
   "source": [
    "# kernel2d= np.array([[-1,-1,-1],[-1,8,-1],[-1,-1,-1]])\n",
    "kernel2d= np.array([[1.,4,6,4,1],[4,16,24,16,4],[6,24,36,24,6],[4,16,24,16,4],[1,4,6,4,1]])/256"
   ]
  },
  {
   "cell_type": "code",
   "execution_count": 22,
   "metadata": {},
   "outputs": [
    {
     "data": {
      "text/plain": [
       "array([[0.00390625, 0.015625  , 0.0234375 , 0.015625  , 0.00390625],\n",
       "       [0.015625  , 0.0625    , 0.09375   , 0.0625    , 0.015625  ],\n",
       "       [0.0234375 , 0.09375   , 0.140625  , 0.09375   , 0.0234375 ],\n",
       "       [0.015625  , 0.0625    , 0.09375   , 0.0625    , 0.015625  ],\n",
       "       [0.00390625, 0.015625  , 0.0234375 , 0.015625  , 0.00390625]])"
      ]
     },
     "execution_count": 22,
     "metadata": {},
     "output_type": "execute_result"
    }
   ],
   "source": [
    "kernel2d"
   ]
  },
  {
   "cell_type": "code",
   "execution_count": 23,
   "metadata": {
    "scrolled": true
   },
   "outputs": [],
   "source": [
    "def pading2d(big,kernel):\n",
    "    tmpWidth=len(kernel[0])\n",
    "    tmpHeight=len(kernel)\n",
    "    z = np.zeros((len(big), tmpWidth-1), dtype=big.dtype)\n",
    "    # aragshaa zalgah\n",
    "    big = np.concatenate((big,z), axis=1)\n",
    "    # dooshoo zalgah\n",
    "    for i in range(tmpHeight-1):\n",
    "        zz= np.zeros((1,len(big[0])), dtype=big.dtype)\n",
    "        big = np.append(big,zz, axis=0)\n",
    "    return big"
   ]
  },
  {
   "cell_type": "code",
   "execution_count": 24,
   "metadata": {},
   "outputs": [],
   "source": [
    "r,g,b =data[:,:,0],data[:,:,1], data[:,:,2]\n",
    "pr,pg,pb=pading2d(r,kernel2d),pading2d(g,kernel2d),pading2d(b,kernel2d)\n",
    "height = len(kernel2d)\n",
    "width = len(kernel2d[0])\n",
    "blurredr= np.copy(r)\n",
    "blurredg= np.copy(g)\n",
    "blurredb= np.copy(b)\n",
    "# r.setflags(write=1)\n",
    "for i in range(len(pr)-height+1):\n",
    "    for j in range(len(pr[0])-width+1):\n",
    "        blurredr[i][j]=\\\n",
    "            np.sum(pr[i:i+height, j:j+width]*kernel2d)\n",
    "        blurredg[i][j]=\\\n",
    "            np.sum(pg[i:i+height, j:j+width]*kernel2d)\n",
    "        blurredb[i][j]=\\\n",
    "            np.sum(pb[i:i+height, j:j+width]*kernel2d)"
   ]
  },
  {
   "cell_type": "code",
   "execution_count": 25,
   "metadata": {
    "scrolled": true
   },
   "outputs": [],
   "source": [
    "blurred=np.dstack((blurredr,blurredg,blurredb))"
   ]
  },
  {
   "cell_type": "code",
   "execution_count": 26,
   "metadata": {},
   "outputs": [],
   "source": [
    "rgb = np.dstack((r,g,b))"
   ]
  },
  {
   "cell_type": "code",
   "execution_count": 27,
   "metadata": {
    "scrolled": true
   },
   "outputs": [
    {
     "data": {
      "text/plain": [
       "array([[[151, 145, 150],\n",
       "        [155, 147, 152],\n",
       "        [155, 146, 151],\n",
       "        ...,\n",
       "        [101,  94,  99],\n",
       "        [ 46,  43,  45],\n",
       "        [  9,   8,   9]],\n",
       "\n",
       "       [[158, 152, 156],\n",
       "        [161, 154, 157],\n",
       "        [160, 152, 155],\n",
       "        ...,\n",
       "        [101,  94,  99],\n",
       "        [ 46,  43,  45],\n",
       "        [  9,   8,   9]],\n",
       "\n",
       "       [[158, 153, 155],\n",
       "        [161, 154, 156],\n",
       "        [160, 152, 155],\n",
       "        ...,\n",
       "        [101,  94,  98],\n",
       "        [ 46,  43,  44],\n",
       "        [  9,   8,   9]],\n",
       "\n",
       "       ...,\n",
       "\n",
       "       [[100,  83,  73],\n",
       "        [101,  83,  73],\n",
       "        [101,  84,  73],\n",
       "        ...,\n",
       "        [ 70,  56,  43],\n",
       "        [ 31,  25,  19],\n",
       "        [  6,   4,   3]],\n",
       "\n",
       "       [[ 45,  38,  33],\n",
       "        [ 45,  38,  33],\n",
       "        [ 46,  38,  33],\n",
       "        ...,\n",
       "        [ 32,  25,  19],\n",
       "        [ 14,  11,   8],\n",
       "        [  2,   2,   1]],\n",
       "\n",
       "       [[  9,   7,   6],\n",
       "        [  9,   7,   6],\n",
       "        [  9,   7,   6],\n",
       "        ...,\n",
       "        [  6,   5,   3],\n",
       "        [  2,   2,   1],\n",
       "        [  0,   0,   0]]], dtype=uint8)"
      ]
     },
     "execution_count": 27,
     "metadata": {},
     "output_type": "execute_result"
    }
   ],
   "source": [
    "blurred"
   ]
  },
  {
   "cell_type": "code",
   "execution_count": 28,
   "metadata": {
    "scrolled": true
   },
   "outputs": [],
   "source": [
    "im = Image.fromarray(np.uint8(blurred))"
   ]
  },
  {
   "cell_type": "code",
   "execution_count": 31,
   "metadata": {
    "scrolled": true
   },
   "outputs": [
    {
     "data": {
      "image/png": "[encoded data removed]",
      "text/plain": [
       "<PIL.Image.Image image mode=RGB size=100x100 at 0x7F75604F8940>"
      ]
     },
     "execution_count": 31,
     "metadata": {},
     "output_type": "execute_result"
    }
   ],
   "source": [
    "im"
   ]
  },
  {
   "cell_type": "markdown",
   "metadata": {},
   "source": [
    "## Original"
   ]
  },
  {
   "cell_type": "code",
   "execution_count": 30,
   "metadata": {},
   "outputs": [
    {
     "data": {
      "image/png": "[encoded data removed]",
      "text/plain": [
       "<PIL.Image.Image image mode=RGB size=100x100 at 0x7F75604F8B00>"
      ]
     },
     "execution_count": 30,
     "metadata": {},
     "output_type": "execute_result"
    }
   ],
   "source": [
    "Image.fromarray(np.uint8(rgb))"
   ]
  }
 ],
 "metadata": {
  "kernelspec": {
   "display_name": "Python 3",
   "language": "python",
   "name": "python3"
  },
  "language_info": {
   "codemirror_mode": {
    "name": "ipython",
    "version": 3
   },
   "file_extension": ".py",
   "mimetype": "text/x-python",
   "name": "python",
   "nbconvert_exporter": "python",
   "pygments_lexer": "ipython3",
   "version": "3.7.3"
  }
 },
 "nbformat": 4,
 "nbformat_minor": 2
}
