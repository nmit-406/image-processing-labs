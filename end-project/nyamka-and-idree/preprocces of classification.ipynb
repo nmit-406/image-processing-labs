{
 "cells": [
  {
   "cell_type": "code",
   "execution_count": 46,
   "metadata": {},
   "outputs": [],
   "source": [
    "import csv\n",
    "import cv2\n",
    "import os\n",
    "import pandas as pd\n",
    "import numpy as np\n",
    "from torchvision import datasets, transforms, models"
   ]
  },
  {
   "cell_type": "markdown",
   "metadata": {},
   "source": [
    "# Prepare Dataset\n"
   ]
  },
  {
   "cell_type": "code",
   "execution_count": 172,
   "metadata": {},
   "outputs": [],
   "source": [
    "header = []\n",
    "for i in range(1,785):\n",
    "    header.append(['pixel'+str(i)])\n",
    "header.insert(0,'labels')\n",
    "\n",
    "# with open('hello.csv', 'w' ,newline = '') as csvfile:\n",
    "#     writer = csv.writer(csvfile)\n",
    "#     writer.writerows([\"labels\"],header)\n",
    "    "
   ]
  },
  {
   "cell_type": "code",
   "execution_count": 175,
   "metadata": {},
   "outputs": [],
   "source": [
    "headers = []\n",
    "headers.append(np.concatenate(header,axis=None))"
   ]
  },
  {
   "cell_type": "code",
   "execution_count": 176,
   "metadata": {},
   "outputs": [
    {
     "data": {
      "text/plain": [
       "[array(['labels', 'pixel1', 'pixel2', 'pixel3', 'pixel4', 'pixel5',\n",
       "        'pixel6', 'pixel7', 'pixel8', 'pixel9', 'pixel10', 'pixel11',\n",
       "        'pixel12', 'pixel13', 'pixel14', 'pixel15', 'pixel16', 'pixel17',\n",
       "        'pixel18', 'pixel19', 'pixel20', 'pixel21', 'pixel22', 'pixel23',\n",
       "        'pixel24', 'pixel25', 'pixel26', 'pixel27', 'pixel28', 'pixel29',\n",
       "        'pixel30', 'pixel31', 'pixel32', 'pixel33', 'pixel34', 'pixel35',\n",
       "        'pixel36', 'pixel37', 'pixel38', 'pixel39', 'pixel40', 'pixel41',\n",
       "        'pixel42', 'pixel43', 'pixel44', 'pixel45', 'pixel46', 'pixel47',\n",
       "        'pixel48', 'pixel49', 'pixel50', 'pixel51', 'pixel52', 'pixel53',\n",
       "        'pixel54', 'pixel55', 'pixel56', 'pixel57', 'pixel58', 'pixel59',\n",
       "        'pixel60', 'pixel61', 'pixel62', 'pixel63', 'pixel64', 'pixel65',\n",
       "        'pixel66', 'pixel67', 'pixel68', 'pixel69', 'pixel70', 'pixel71',\n",
       "        'pixel72', 'pixel73', 'pixel74', 'pixel75', 'pixel76', 'pixel77',\n",
       "        'pixel78', 'pixel79', 'pixel80', 'pixel81', 'pixel82', 'pixel83',\n",
       "        'pixel84', 'pixel85', 'pixel86', 'pixel87', 'pixel88', 'pixel89',\n",
       "        'pixel90', 'pixel91', 'pixel92', 'pixel93', 'pixel94', 'pixel95',\n",
       "        'pixel96', 'pixel97', 'pixel98', 'pixel99', 'pixel100', 'pixel101',\n",
       "        'pixel102', 'pixel103', 'pixel104', 'pixel105', 'pixel106',\n",
       "        'pixel107', 'pixel108', 'pixel109', 'pixel110', 'pixel111',\n",
       "        'pixel112', 'pixel113', 'pixel114', 'pixel115', 'pixel116',\n",
       "        'pixel117', 'pixel118', 'pixel119', 'pixel120', 'pixel121',\n",
       "        'pixel122', 'pixel123', 'pixel124', 'pixel125', 'pixel126',\n",
       "        'pixel127', 'pixel128', 'pixel129', 'pixel130', 'pixel131',\n",
       "        'pixel132', 'pixel133', 'pixel134', 'pixel135', 'pixel136',\n",
       "        'pixel137', 'pixel138', 'pixel139', 'pixel140', 'pixel141',\n",
       "        'pixel142', 'pixel143', 'pixel144', 'pixel145', 'pixel146',\n",
       "        'pixel147', 'pixel148', 'pixel149', 'pixel150', 'pixel151',\n",
       "        'pixel152', 'pixel153', 'pixel154', 'pixel155', 'pixel156',\n",
       "        'pixel157', 'pixel158', 'pixel159', 'pixel160', 'pixel161',\n",
       "        'pixel162', 'pixel163', 'pixel164', 'pixel165', 'pixel166',\n",
       "        'pixel167', 'pixel168', 'pixel169', 'pixel170', 'pixel171',\n",
       "        'pixel172', 'pixel173', 'pixel174', 'pixel175', 'pixel176',\n",
       "        'pixel177', 'pixel178', 'pixel179', 'pixel180', 'pixel181',\n",
       "        'pixel182', 'pixel183', 'pixel184', 'pixel185', 'pixel186',\n",
       "        'pixel187', 'pixel188', 'pixel189', 'pixel190', 'pixel191',\n",
       "        'pixel192', 'pixel193', 'pixel194', 'pixel195', 'pixel196',\n",
       "        'pixel197', 'pixel198', 'pixel199', 'pixel200', 'pixel201',\n",
       "        'pixel202', 'pixel203', 'pixel204', 'pixel205', 'pixel206',\n",
       "        'pixel207', 'pixel208', 'pixel209', 'pixel210', 'pixel211',\n",
       "        'pixel212', 'pixel213', 'pixel214', 'pixel215', 'pixel216',\n",
       "        'pixel217', 'pixel218', 'pixel219', 'pixel220', 'pixel221',\n",
       "        'pixel222', 'pixel223', 'pixel224', 'pixel225', 'pixel226',\n",
       "        'pixel227', 'pixel228', 'pixel229', 'pixel230', 'pixel231',\n",
       "        'pixel232', 'pixel233', 'pixel234', 'pixel235', 'pixel236',\n",
       "        'pixel237', 'pixel238', 'pixel239', 'pixel240', 'pixel241',\n",
       "        'pixel242', 'pixel243', 'pixel244', 'pixel245', 'pixel246',\n",
       "        'pixel247', 'pixel248', 'pixel249', 'pixel250', 'pixel251',\n",
       "        'pixel252', 'pixel253', 'pixel254', 'pixel255', 'pixel256',\n",
       "        'pixel257', 'pixel258', 'pixel259', 'pixel260', 'pixel261',\n",
       "        'pixel262', 'pixel263', 'pixel264', 'pixel265', 'pixel266',\n",
       "        'pixel267', 'pixel268', 'pixel269', 'pixel270', 'pixel271',\n",
       "        'pixel272', 'pixel273', 'pixel274', 'pixel275', 'pixel276',\n",
       "        'pixel277', 'pixel278', 'pixel279', 'pixel280', 'pixel281',\n",
       "        'pixel282', 'pixel283', 'pixel284', 'pixel285', 'pixel286',\n",
       "        'pixel287', 'pixel288', 'pixel289', 'pixel290', 'pixel291',\n",
       "        'pixel292', 'pixel293', 'pixel294', 'pixel295', 'pixel296',\n",
       "        'pixel297', 'pixel298', 'pixel299', 'pixel300', 'pixel301',\n",
       "        'pixel302', 'pixel303', 'pixel304', 'pixel305', 'pixel306',\n",
       "        'pixel307', 'pixel308', 'pixel309', 'pixel310', 'pixel311',\n",
       "        'pixel312', 'pixel313', 'pixel314', 'pixel315', 'pixel316',\n",
       "        'pixel317', 'pixel318', 'pixel319', 'pixel320', 'pixel321',\n",
       "        'pixel322', 'pixel323', 'pixel324', 'pixel325', 'pixel326',\n",
       "        'pixel327', 'pixel328', 'pixel329', 'pixel330', 'pixel331',\n",
       "        'pixel332', 'pixel333', 'pixel334', 'pixel335', 'pixel336',\n",
       "        'pixel337', 'pixel338', 'pixel339', 'pixel340', 'pixel341',\n",
       "        'pixel342', 'pixel343', 'pixel344', 'pixel345', 'pixel346',\n",
       "        'pixel347', 'pixel348', 'pixel349', 'pixel350', 'pixel351',\n",
       "        'pixel352', 'pixel353', 'pixel354', 'pixel355', 'pixel356',\n",
       "        'pixel357', 'pixel358', 'pixel359', 'pixel360', 'pixel361',\n",
       "        'pixel362', 'pixel363', 'pixel364', 'pixel365', 'pixel366',\n",
       "        'pixel367', 'pixel368', 'pixel369', 'pixel370', 'pixel371',\n",
       "        'pixel372', 'pixel373', 'pixel374', 'pixel375', 'pixel376',\n",
       "        'pixel377', 'pixel378', 'pixel379', 'pixel380', 'pixel381',\n",
       "        'pixel382', 'pixel383', 'pixel384', 'pixel385', 'pixel386',\n",
       "        'pixel387', 'pixel388', 'pixel389', 'pixel390', 'pixel391',\n",
       "        'pixel392', 'pixel393', 'pixel394', 'pixel395', 'pixel396',\n",
       "        'pixel397', 'pixel398', 'pixel399', 'pixel400', 'pixel401',\n",
       "        'pixel402', 'pixel403', 'pixel404', 'pixel405', 'pixel406',\n",
       "        'pixel407', 'pixel408', 'pixel409', 'pixel410', 'pixel411',\n",
       "        'pixel412', 'pixel413', 'pixel414', 'pixel415', 'pixel416',\n",
       "        'pixel417', 'pixel418', 'pixel419', 'pixel420', 'pixel421',\n",
       "        'pixel422', 'pixel423', 'pixel424', 'pixel425', 'pixel426',\n",
       "        'pixel427', 'pixel428', 'pixel429', 'pixel430', 'pixel431',\n",
       "        'pixel432', 'pixel433', 'pixel434', 'pixel435', 'pixel436',\n",
       "        'pixel437', 'pixel438', 'pixel439', 'pixel440', 'pixel441',\n",
       "        'pixel442', 'pixel443', 'pixel444', 'pixel445', 'pixel446',\n",
       "        'pixel447', 'pixel448', 'pixel449', 'pixel450', 'pixel451',\n",
       "        'pixel452', 'pixel453', 'pixel454', 'pixel455', 'pixel456',\n",
       "        'pixel457', 'pixel458', 'pixel459', 'pixel460', 'pixel461',\n",
       "        'pixel462', 'pixel463', 'pixel464', 'pixel465', 'pixel466',\n",
       "        'pixel467', 'pixel468', 'pixel469', 'pixel470', 'pixel471',\n",
       "        'pixel472', 'pixel473', 'pixel474', 'pixel475', 'pixel476',\n",
       "        'pixel477', 'pixel478', 'pixel479', 'pixel480', 'pixel481',\n",
       "        'pixel482', 'pixel483', 'pixel484', 'pixel485', 'pixel486',\n",
       "        'pixel487', 'pixel488', 'pixel489', 'pixel490', 'pixel491',\n",
       "        'pixel492', 'pixel493', 'pixel494', 'pixel495', 'pixel496',\n",
       "        'pixel497', 'pixel498', 'pixel499', 'pixel500', 'pixel501',\n",
       "        'pixel502', 'pixel503', 'pixel504', 'pixel505', 'pixel506',\n",
       "        'pixel507', 'pixel508', 'pixel509', 'pixel510', 'pixel511',\n",
       "        'pixel512', 'pixel513', 'pixel514', 'pixel515', 'pixel516',\n",
       "        'pixel517', 'pixel518', 'pixel519', 'pixel520', 'pixel521',\n",
       "        'pixel522', 'pixel523', 'pixel524', 'pixel525', 'pixel526',\n",
       "        'pixel527', 'pixel528', 'pixel529', 'pixel530', 'pixel531',\n",
       "        'pixel532', 'pixel533', 'pixel534', 'pixel535', 'pixel536',\n",
       "        'pixel537', 'pixel538', 'pixel539', 'pixel540', 'pixel541',\n",
       "        'pixel542', 'pixel543', 'pixel544', 'pixel545', 'pixel546',\n",
       "        'pixel547', 'pixel548', 'pixel549', 'pixel550', 'pixel551',\n",
       "        'pixel552', 'pixel553', 'pixel554', 'pixel555', 'pixel556',\n",
       "        'pixel557', 'pixel558', 'pixel559', 'pixel560', 'pixel561',\n",
       "        'pixel562', 'pixel563', 'pixel564', 'pixel565', 'pixel566',\n",
       "        'pixel567', 'pixel568', 'pixel569', 'pixel570', 'pixel571',\n",
       "        'pixel572', 'pixel573', 'pixel574', 'pixel575', 'pixel576',\n",
       "        'pixel577', 'pixel578', 'pixel579', 'pixel580', 'pixel581',\n",
       "        'pixel582', 'pixel583', 'pixel584', 'pixel585', 'pixel586',\n",
       "        'pixel587', 'pixel588', 'pixel589', 'pixel590', 'pixel591',\n",
       "        'pixel592', 'pixel593', 'pixel594', 'pixel595', 'pixel596',\n",
       "        'pixel597', 'pixel598', 'pixel599', 'pixel600', 'pixel601',\n",
       "        'pixel602', 'pixel603', 'pixel604', 'pixel605', 'pixel606',\n",
       "        'pixel607', 'pixel608', 'pixel609', 'pixel610', 'pixel611',\n",
       "        'pixel612', 'pixel613', 'pixel614', 'pixel615', 'pixel616',\n",
       "        'pixel617', 'pixel618', 'pixel619', 'pixel620', 'pixel621',\n",
       "        'pixel622', 'pixel623', 'pixel624', 'pixel625', 'pixel626',\n",
       "        'pixel627', 'pixel628', 'pixel629', 'pixel630', 'pixel631',\n",
       "        'pixel632', 'pixel633', 'pixel634', 'pixel635', 'pixel636',\n",
       "        'pixel637', 'pixel638', 'pixel639', 'pixel640', 'pixel641',\n",
       "        'pixel642', 'pixel643', 'pixel644', 'pixel645', 'pixel646',\n",
       "        'pixel647', 'pixel648', 'pixel649', 'pixel650', 'pixel651',\n",
       "        'pixel652', 'pixel653', 'pixel654', 'pixel655', 'pixel656',\n",
       "        'pixel657', 'pixel658', 'pixel659', 'pixel660', 'pixel661',\n",
       "        'pixel662', 'pixel663', 'pixel664', 'pixel665', 'pixel666',\n",
       "        'pixel667', 'pixel668', 'pixel669', 'pixel670', 'pixel671',\n",
       "        'pixel672', 'pixel673', 'pixel674', 'pixel675', 'pixel676',\n",
       "        'pixel677', 'pixel678', 'pixel679', 'pixel680', 'pixel681',\n",
       "        'pixel682', 'pixel683', 'pixel684', 'pixel685', 'pixel686',\n",
       "        'pixel687', 'pixel688', 'pixel689', 'pixel690', 'pixel691',\n",
       "        'pixel692', 'pixel693', 'pixel694', 'pixel695', 'pixel696',\n",
       "        'pixel697', 'pixel698', 'pixel699', 'pixel700', 'pixel701',\n",
       "        'pixel702', 'pixel703', 'pixel704', 'pixel705', 'pixel706',\n",
       "        'pixel707', 'pixel708', 'pixel709', 'pixel710', 'pixel711',\n",
       "        'pixel712', 'pixel713', 'pixel714', 'pixel715', 'pixel716',\n",
       "        'pixel717', 'pixel718', 'pixel719', 'pixel720', 'pixel721',\n",
       "        'pixel722', 'pixel723', 'pixel724', 'pixel725', 'pixel726',\n",
       "        'pixel727', 'pixel728', 'pixel729', 'pixel730', 'pixel731',\n",
       "        'pixel732', 'pixel733', 'pixel734', 'pixel735', 'pixel736',\n",
       "        'pixel737', 'pixel738', 'pixel739', 'pixel740', 'pixel741',\n",
       "        'pixel742', 'pixel743', 'pixel744', 'pixel745', 'pixel746',\n",
       "        'pixel747', 'pixel748', 'pixel749', 'pixel750', 'pixel751',\n",
       "        'pixel752', 'pixel753', 'pixel754', 'pixel755', 'pixel756',\n",
       "        'pixel757', 'pixel758', 'pixel759', 'pixel760', 'pixel761',\n",
       "        'pixel762', 'pixel763', 'pixel764', 'pixel765', 'pixel766',\n",
       "        'pixel767', 'pixel768', 'pixel769', 'pixel770', 'pixel771',\n",
       "        'pixel772', 'pixel773', 'pixel774', 'pixel775', 'pixel776',\n",
       "        'pixel777', 'pixel778', 'pixel779', 'pixel780', 'pixel781',\n",
       "        'pixel782', 'pixel783', 'pixel784'], dtype='<U8')]"
      ]
     },
     "execution_count": 176,
     "metadata": {},
     "output_type": "execute_result"
    }
   ],
   "source": [
    "headers"
   ]
  },
  {
   "cell_type": "code",
   "execution_count": 18,
   "metadata": {},
   "outputs": [],
   "source": [
    "old_path= \"/home/ubuntu/hi-env/image-processing-labs/end-project/nyamka-and-idree/faces/+25/\"\n",
    "young_path= \"/home/ubuntu/hi-env/image-processing-labs/end-project/nyamka-and-idree/faces/-25/\""
   ]
  },
  {
   "cell_type": "code",
   "execution_count": 19,
   "metadata": {},
   "outputs": [],
   "source": [
    "def get_all_images(folder, ext):\n",
    "    return [os.path.join(folder, f) for f in os.listdir(folder) if f.endswith(\".jpg\")]"
   ]
  },
  {
   "cell_type": "code",
   "execution_count": 20,
   "metadata": {},
   "outputs": [],
   "source": [
    "old = get_all_images(old_path, 'jpg')\n",
    "young = get_all_images(young_path, 'jpg')"
   ]
  },
  {
   "cell_type": "code",
   "execution_count": 21,
   "metadata": {},
   "outputs": [],
   "source": [
    "old_train = [cv2.imread(jpg) for jpg in old]\n",
    "young_train = [cv2.imread(jpg) for jpg in young]"
   ]
  },
  {
   "cell_type": "code",
   "execution_count": 22,
   "metadata": {},
   "outputs": [],
   "source": [
    "size = 28\n",
    "old_tr = [cv2.resize(x, (size, size)) for x in old_train]\n",
    "young_tr = [cv2.resize(x, (size, size)) for x in young_train]"
   ]
  },
  {
   "cell_type": "code",
   "execution_count": 82,
   "metadata": {},
   "outputs": [],
   "source": [
    "old_gray = np.array([cv2.cvtColor(x, cv2.COLOR_BGR2GRAY) for x in old_tr])\n",
    "young_gray = np.array([cv2.cvtColor(x, cv2.COLOR_BGR2GRAY) for x in young_tr])"
   ]
  },
  {
   "cell_type": "code",
   "execution_count": 139,
   "metadata": {},
   "outputs": [],
   "source": [
    "gray = []\n",
    "hell = []\n",
    "for i in range(0,185):\n",
    "    gray.append(np.concatenate(old_gray[i], axis =None))\n",
    "hell.append(np.insert(gray,0,0,axis=1))"
   ]
  },
  {
   "cell_type": "code",
   "execution_count": 181,
   "metadata": {},
   "outputs": [],
   "source": [
    "gray1 = []\n",
    "hell1 = []\n",
    "for i in range(0,len(young_gray)):\n",
    "    gray1.append(np.concatenate(young_gray[i], axis =None))\n",
    "hell1.append(np.insert(gray1,0,1,axis=1))\n",
    "    "
   ]
  },
  {
   "cell_type": "code",
   "execution_count": 182,
   "metadata": {},
   "outputs": [],
   "source": [
    "\n",
    "with open('exampleset1.csv', 'w' ,newline = '') as csvfile:\n",
    "    writer = csv.writer(csvfile,   delimiter=',', quotechar='\"', quoting=csv.QUOTE_MINIMAL)\n",
    "    writer.writerows(x for x in headers)\n",
    "    writer.writerows(x for x in hell[0].tolist())\n",
    "    writer.writerows(x for x in hell1[0].tolist())\n",
    "    "
   ]
  },
  {
   "cell_type": "code",
   "execution_count": null,
   "metadata": {},
   "outputs": [],
   "source": []
  },
  {
   "cell_type": "code",
   "execution_count": null,
   "metadata": {},
   "outputs": [],
   "source": []
  }
 ],
 "metadata": {
  "kernelspec": {
   "display_name": "Python 3",
   "language": "python",
   "name": "python3"
  },
  "language_info": {
   "codemirror_mode": {
    "name": "ipython",
    "version": 3
   },
   "file_extension": ".py",
   "mimetype": "text/x-python",
   "name": "python",
   "nbconvert_exporter": "python",
   "pygments_lexer": "ipython3",
   "version": "3.6.8"
  }
 },
 "nbformat": 4,
 "nbformat_minor": 2
}
