{
 "cells": [
  {
   "cell_type": "code",
   "execution_count": 113,
   "metadata": {},
   "outputs": [],
   "source": [
    "import cv2\n",
    "import torch\n",
    "import torch.nn as nn\n",
    "import numpy as np\n",
    "import tensorflow as tf\n",
    "import matplotlib.pyplot as plt\n",
    "from torch.utils.data import DataLoader, TensorDataset\n",
    "import json\n",
    "from collections import Counter"
   ]
  },
  {
   "cell_type": "markdown",
   "metadata": {},
   "source": [
    "# Training data"
   ]
  },
  {
   "cell_type": "code",
   "execution_count": 114,
   "metadata": {},
   "outputs": [
    {
     "name": "stdout",
     "output_type": "stream",
     "text": [
      "88\n",
      "[5, 5, 4, 5, 4, 4, 4, 4, 4, 2, 4, 4, 5, 4, 3, 5, 4, 4, 5, 4, 4, 4, 5, 4, 4, 3, 4, 4, 5, 4, 4, 3, 4, 5, 5, 3, 4, 4, 3, 4, 4, 4, 4, 5, 4, 3, 0, 1, 1, 2, 1, 0, 1, 0, 0, 0, 0, 0, 0, 1, 0, 0, 1, 0, 0, 0, 0, 0, 0, 0, 0, 0, 0, 0, 1, 0, 0, 0, 0, 1, 1, 0, 0, 1, 1, 0, 0, 0]\n"
     ]
    }
   ],
   "source": [
    "with open('image.json') as f:\n",
    "    data = json.load(f)\n",
    "    \n",
    "size = 28\n",
    "ldata = []\n",
    "ydata = []\n",
    "for zurag in data['images']:\n",
    "    img = cv2.imread(\"smiling/\"+zurag['name'],0)\n",
    "    \n",
    "    img = cv2.resize(img,(size,size))\n",
    "  \n",
    "    ldata.append(img.flatten())\n",
    "    ydata.append(int(zurag['smile']))\n",
    "print(len(ldata))\n",
    "print(ydata)"
   ]
  },
  {
   "cell_type": "code",
   "execution_count": 115,
   "metadata": {},
   "outputs": [],
   "source": [
    "X = torch.tensor(ldata)\n",
    "Y = torch.tensor(ydata)"
   ]
  },
  {
   "cell_type": "code",
   "execution_count": 116,
   "metadata": {},
   "outputs": [
    {
     "name": "stdout",
     "output_type": "stream",
     "text": [
      "torch.Size([88, 784])\n",
      "torch.Size([88])\n"
     ]
    }
   ],
   "source": [
    "print(X.shape)\n",
    "print(Y.shape)"
   ]
  },
  {
   "cell_type": "code",
   "execution_count": 117,
   "metadata": {},
   "outputs": [
    {
     "name": "stdout",
     "output_type": "stream",
     "text": [
      "torch.Size([88, 784])\n",
      "torch.Size([88])\n"
     ]
    }
   ],
   "source": [
    "train_x = X\n",
    "\n",
    "train_y = Y\n",
    "\n",
    "\n",
    "print(train_x.shape)\n",
    "\n",
    "print(train_y.shape)"
   ]
  },
  {
   "cell_type": "code",
   "execution_count": 118,
   "metadata": {},
   "outputs": [
    {
     "data": {
      "image/png": "[encoded data removed]",
      "text/plain": [
       "<Figure size 1440x720 with 1 Axes>"
      ]
     },
     "metadata": {
      "needs_background": "light"
     },
     "output_type": "display_data"
    }
   ],
   "source": [
    "z = dict(Counter(list(ydata)))\n",
    "labels = z.keys()\n",
    "frequencies = [z[i] for i in labels]\n",
    "\n",
    "plt.figure(figsize = (20, 10))\n",
    "plt.bar(labels, frequencies)\n",
    "plt.title('Frequency Distribution of Smiling', fontsize = 20)\n",
    "plt.show()"
   ]
  },
  {
   "cell_type": "code",
   "execution_count": 119,
   "metadata": {},
   "outputs": [
    {
     "name": "stdout",
     "output_type": "stream",
     "text": [
      "Shape of y after encoding: (88, 6)\n"
     ]
    }
   ],
   "source": [
    "def one_hot_encode(y):\n",
    "    return np.eye(6)[y]\n",
    "y_encoded = one_hot_encode(train_y)\n",
    "print('Shape of y after encoding:', y_encoded.shape)\n",
    "train_y=y_encoded"
   ]
  },
  {
   "cell_type": "markdown",
   "metadata": {},
   "source": [
    "# Test data"
   ]
  },
  {
   "cell_type": "code",
   "execution_count": 120,
   "metadata": {},
   "outputs": [
    {
     "name": "stdout",
     "output_type": "stream",
     "text": [
      "17\n",
      "[0, 5, 4, 5, 4, 4, 3, 1, 1, 5, 2, 0, 3, 4, 0, 5, 4]\n",
      "torch.Size([17, 784])\n",
      "torch.Size([17])\n"
     ]
    }
   ],
   "source": [
    "with open('test.json') as g:\n",
    "    datatest = json.load(g)\n",
    "    \n",
    "size = 28\n",
    "ldata = []\n",
    "ydata = []\n",
    "for zurag in datatest['test']:\n",
    "    img = cv2.imread(\"test/\"+zurag['name'],0)\n",
    "    \n",
    "    img = cv2.resize(img,(size,size))\n",
    "  \n",
    "    ldata.append(img.flatten())\n",
    "    ydata.append(int(zurag['smile']))\n",
    "print(len(ldata))\n",
    "print(ydata)\n",
    "X = torch.tensor(ldata)\n",
    "Y = torch.tensor(ydata)\n",
    "test_x = X\n",
    "\n",
    "test_y = Y\n",
    "\n",
    "\n",
    "print(test_x.shape)\n",
    "\n",
    "print(test_y.shape)"
   ]
  },
  {
   "cell_type": "markdown",
   "metadata": {},
   "source": [
    "# Building CNN"
   ]
  },
  {
   "cell_type": "code",
   "execution_count": 121,
   "metadata": {},
   "outputs": [],
   "source": [
    "learning_rate = 0.001\n",
    "epochs = 100\n",
    "batch_size = 128\n",
    "display_step = 100\n",
    "classes=6\n",
    "inputs= 784\n",
    "dropout = 0.75\n",
    "# Placeholders\n",
    "X1 = tf.placeholder(tf.float32, shape = [None, inputs]) # Placeholder for Feature Matrix\n",
    "Y1 = tf.placeholder(tf.float32, shape = [None, classes]) # Placeholder for Labels\n",
    "keep_prob = tf.placeholder(tf.float32) # Placeholder for Dropout Rate"
   ]
  },
  {
   "cell_type": "code",
   "execution_count": 122,
   "metadata": {},
   "outputs": [],
   "source": [
    "weights = {\n",
    "    # Weight for Convolutional Layer 1: 5x5 filter, 1 input channel, 32 output channels\n",
    "    'w1' : tf.Variable(tf.random_normal([5, 5, 1, 32])),\n",
    "    # Weight for Convolutional Layer 2: 5x5 filter, 32 input channels, 64 output channels\n",
    "    'w2' : tf.Variable(tf.random_normal([5, 5, 32, 64])),\n",
    "    # Weight for Fully Connected Layer 1: 49 * 64 input channels, 1024 output channels\n",
    "    'w3' : tf.Variable(tf.random_normal([7 * 7 * 64, 1024])),\n",
    "    # Weight for Convolutional Layer 1: 1024 input channels, 25(number of classes) output channels\n",
    "    'w4' : tf.Variable(tf.random_normal([1024, classes]))\n",
    "}"
   ]
  },
  {
   "cell_type": "code",
   "execution_count": 123,
   "metadata": {},
   "outputs": [],
   "source": [
    "biases = {\n",
    "    # Bias for Convolutional Layer 1\n",
    "    'b1' : tf.Variable(tf.random_normal([32])),\n",
    "    # Bias for Convolutional Layer 2\n",
    "    'b2' : tf.Variable(tf.random_normal([64])),\n",
    "    # Bias for Fully Connected Layer 1\n",
    "    'b3' : tf.Variable(tf.random_normal([1024])),\n",
    "    # Bias for Outout Layer\n",
    "    'b4' : tf.Variable(tf.random_normal([classes]))\n",
    "}"
   ]
  },
  {
   "cell_type": "code",
   "execution_count": 124,
   "metadata": {},
   "outputs": [],
   "source": [
    "def conv2d(x, W, b, strides = 1):\n",
    "    x = tf.nn.conv2d(x, W, strides = [1, strides, strides, 1], padding='SAME')\n",
    "    x = tf.nn.bias_add(x, b)\n",
    "    return tf.nn.relu(x)"
   ]
  },
  {
   "cell_type": "code",
   "execution_count": 125,
   "metadata": {},
   "outputs": [],
   "source": [
    "def maxpool2d(x, k=2):\n",
    "    return tf.nn.max_pool(x, ksize = [1, k, k, 1], strides = [1, k, k, 1], padding = 'SAME')"
   ]
  },
  {
   "cell_type": "code",
   "execution_count": 126,
   "metadata": {},
   "outputs": [],
   "source": [
    "def neural_network(x, weight, bias, dropout):\n",
    "    x = tf.reshape(x, shape = [-1, 28, 28, 1])\n",
    "    \n",
    "    conv1 = conv2d(x, weight['w1'], bias['b1']) # Convolutional Layer 1\n",
    "    conv1 = maxpool2d(conv1) # Pooling Layer 1\n",
    "    \n",
    "    conv2 = conv2d(conv1, weight['w2'], bias['b2']) # Convolutional Layer 1\n",
    "    conv2 = maxpool2d(conv2) # Pooling Layer 1\n",
    "    \n",
    "    # Fully Connected Layer 1\n",
    "    # Reshaping output of previous convolutional layer to fit the fully connected layer\n",
    "    fc = tf.reshape(conv2, [-1, weights['w3'].get_shape().as_list()[0]])\n",
    "    fc = tf.add(tf.matmul(fc, weight['w3']), bias['b3']) # Linear Function\n",
    "    fc = tf.nn.relu(fc) # Activation Function\n",
    "    \n",
    "    fc = tf.nn.dropout(fc, dropout) # Applying dropout on Fully Connected Layer\n",
    "    \n",
    "    out = tf.add(tf.matmul(fc, weight['w4']), bias['b4']) # Output Layer\n",
    "    return out"
   ]
  },
  {
   "cell_type": "code",
   "execution_count": 127,
   "metadata": {},
   "outputs": [],
   "source": [
    "logits = neural_network(X1, weights, biases, keep_prob)\n",
    "\n",
    "loss_op = tf.nn.softmax_cross_entropy_with_logits_v2(logits = logits, labels = Y1)\n",
    "optimizer = tf.train.AdamOptimizer(learning_rate = learning_rate)\n",
    "train_op = optimizer.minimize(loss_op)"
   ]
  },
  {
   "cell_type": "code",
   "execution_count": 128,
   "metadata": {},
   "outputs": [],
   "source": [
    "correct_pred = tf.equal(tf.argmax(logits, 1), tf.argmax(Y1, 1))\n",
    "accuracy = tf.reduce_mean(tf.cast(correct_pred, tf.float32))"
   ]
  },
  {
   "cell_type": "code",
   "execution_count": 129,
   "metadata": {},
   "outputs": [],
   "source": [
    "init = tf.global_variables_initializer()"
   ]
  },
  {
   "cell_type": "markdown",
   "metadata": {},
   "source": [
    "# Training on training data"
   ]
  },
  {
   "cell_type": "code",
   "execution_count": 130,
   "metadata": {},
   "outputs": [
    {
     "name": "stdout",
     "output_type": "stream",
     "text": [
      "Epoch 1, Cost: 1506315470.0, Accuracy: 15.909090638160706 %\n",
      "Epoch 2, Cost: 964846846.5, Accuracy: 29.545453190803528 %\n",
      "Epoch 3, Cost: 814239202.25, Accuracy: 34.090909361839294 %\n",
      "Epoch 4, Cost: 627948004.0, Accuracy: 31.81818127632141 %\n",
      "Epoch 5, Cost: 505223301.75, Accuracy: 39.77272808551788 %\n",
      "Epoch 6, Cost: 618604003.5, Accuracy: 36.36363744735718 %\n",
      "Epoch 7, Cost: 738176238.5, Accuracy: 35.22727191448212 %\n",
      "Epoch 8, Cost: 745782739.5, Accuracy: 36.36363744735718 %\n",
      "Epoch 9, Cost: 644222970.0, Accuracy: 37.5 %\n",
      "Epoch 10, Cost: 515314503.0, Accuracy: 37.5 %\n",
      "Epoch 11, Cost: 460069956.25, Accuracy: 38.63636255264282 %\n",
      "Epoch 12, Cost: 428229587.5, Accuracy: 37.5 %\n",
      "Epoch 13, Cost: 397410742.5, Accuracy: 42.04545319080353 %\n",
      "Epoch 14, Cost: 372434511.5, Accuracy: 40.909090638160706 %\n",
      "Epoch 15, Cost: 347075146.5, Accuracy: 43.18181872367859 %\n",
      "Epoch 16, Cost: 315343367.0, Accuracy: 48.86363744735718 %\n",
      "Epoch 17, Cost: 285114992.5, Accuracy: 51.13636255264282 %\n",
      "Epoch 18, Cost: 243738577.5, Accuracy: 55.68181872367859 %\n",
      "Epoch 19, Cost: 215772097.25, Accuracy: 60.227274894714355 %\n",
      "Epoch 20, Cost: 199906754.75, Accuracy: 60.227274894714355 %\n",
      "Epoch 21, Cost: 194889795.75, Accuracy: 57.95454382896423 %\n",
      "Epoch 22, Cost: 197557836.25, Accuracy: 54.54545617103577 %\n",
      "Epoch 23, Cost: 192897528.375, Accuracy: 55.68181872367859 %\n",
      "Epoch 24, Cost: 177963306.0, Accuracy: 55.68181872367859 %\n",
      "Epoch 25, Cost: 154659543.5, Accuracy: 59.090906381607056 %\n",
      "Epoch 26, Cost: 133677025.6875, Accuracy: 64.77272510528564 %\n",
      "Epoch 27, Cost: 120886081.375, Accuracy: 67.04545617103577 %\n",
      "Epoch 28, Cost: 110890495.0625, Accuracy: 67.04545617103577 %\n",
      "Epoch 29, Cost: 107939662.625, Accuracy: 64.77272510528564 %\n",
      "Epoch 30, Cost: 106652035.25, Accuracy: 63.63636255264282 %\n",
      "Epoch 31, Cost: 107705866.125, Accuracy: 63.63636255264282 %\n",
      "Epoch 32, Cost: 106759468.5, Accuracy: 65.90909361839294 %\n",
      "Epoch 33, Cost: 106755400.75, Accuracy: 67.04545617103577 %\n",
      "Epoch 34, Cost: 111217164.5, Accuracy: 72.72727489471436 %\n",
      "Epoch 35, Cost: 120167541.625, Accuracy: 70.45454382896423 %\n",
      "Epoch 36, Cost: 128806761.0, Accuracy: 70.45454382896423 %\n",
      "Epoch 37, Cost: 133630899.25, Accuracy: 71.59090638160706 %\n",
      "Epoch 38, Cost: 131133372.75, Accuracy: 70.45454382896423 %\n",
      "Epoch 39, Cost: 124256209.375, Accuracy: 70.45454382896423 %\n",
      "Epoch 40, Cost: 113970358.75, Accuracy: 72.72727489471436 %\n",
      "Epoch 41, Cost: 106170216.75, Accuracy: 69.31818127632141 %\n",
      "Epoch 42, Cost: 101648132.5, Accuracy: 69.31818127632141 %\n",
      "Epoch 43, Cost: 94866586.3125, Accuracy: 71.59090638160706 %\n",
      "Epoch 44, Cost: 84958661.6875, Accuracy: 70.45454382896423 %\n",
      "Epoch 45, Cost: 72123098.875, Accuracy: 76.13636255264282 %\n",
      "Epoch 46, Cost: 63037570.75, Accuracy: 76.13636255264282 %\n",
      "Epoch 47, Cost: 56105707.5625, Accuracy: 73.86363744735718 %\n",
      "Epoch 48, Cost: 54573158.6875, Accuracy: 76.13636255264282 %\n",
      "Epoch 49, Cost: 55694189.75, Accuracy: 75.0 %\n",
      "Epoch 50, Cost: 59909564.75, Accuracy: 75.0 %\n",
      "Epoch 51, Cost: 63208090.75, Accuracy: 75.0 %\n",
      "Epoch 52, Cost: 68990402.0, Accuracy: 76.13636255264282 %\n",
      "Epoch 53, Cost: 78216917.125, Accuracy: 73.86363744735718 %\n",
      "Epoch 54, Cost: 90000516.375, Accuracy: 72.72727489471436 %\n",
      "Epoch 55, Cost: 93176148.0, Accuracy: 70.45454382896423 %\n",
      "Epoch 56, Cost: 82472727.5, Accuracy: 71.59090638160706 %\n",
      "Epoch 57, Cost: 60638275.25, Accuracy: 77.27272510528564 %\n",
      "Epoch 58, Cost: 51223471.625, Accuracy: 77.27272510528564 %\n",
      "Epoch 59, Cost: 47147504.75, Accuracy: 79.54545617103577 %\n",
      "Epoch 60, Cost: 44578805.25, Accuracy: 79.54545617103577 %\n",
      "Epoch 61, Cost: 40823564.3125, Accuracy: 75.0 %\n",
      "Epoch 62, Cost: 37493108.8125, Accuracy: 77.27272510528564 %\n",
      "Epoch 63, Cost: 30330978.5, Accuracy: 80.68181872367859 %\n",
      "Epoch 64, Cost: 28645424.5, Accuracy: 84.09090638160706 %\n",
      "Epoch 65, Cost: 29128087.1875, Accuracy: 85.22727489471436 %\n",
      "Epoch 66, Cost: 30846356.875, Accuracy: 86.36363744735718 %\n",
      "Epoch 67, Cost: 30622388.75, Accuracy: 84.09090638160706 %\n",
      "Epoch 68, Cost: 30766515.03125, Accuracy: 82.95454382896423 %\n",
      "Epoch 69, Cost: 32050269.34375, Accuracy: 81.81818127632141 %\n",
      "Epoch 70, Cost: 32094010.0, Accuracy: 82.95454382896423 %\n",
      "Epoch 71, Cost: 28220913.75, Accuracy: 85.22727489471436 %\n",
      "Epoch 72, Cost: 23823630.75, Accuracy: 86.36363744735718 %\n",
      "Epoch 73, Cost: 20546155.75, Accuracy: 86.36363744735718 %\n",
      "Epoch 74, Cost: 16934254.625, Accuracy: 88.63636255264282 %\n",
      "Epoch 75, Cost: 15085230.75, Accuracy: 86.36363744735718 %\n",
      "Epoch 76, Cost: 14715504.125, Accuracy: 86.36363744735718 %\n",
      "Epoch 77, Cost: 17013555.03125, Accuracy: 85.22727489471436 %\n",
      "Epoch 78, Cost: 19407376.171875, Accuracy: 84.09090638160706 %\n",
      "Epoch 79, Cost: 20978984.1875, Accuracy: 85.22727489471436 %\n",
      "Epoch 80, Cost: 21312425.28125, Accuracy: 85.22727489471436 %\n",
      "Epoch 81, Cost: 19832737.125, Accuracy: 87.5 %\n",
      "Epoch 82, Cost: 16562302.5, Accuracy: 88.63636255264282 %\n",
      "Epoch 83, Cost: 12925375.125, Accuracy: 89.77272510528564 %\n",
      "Epoch 84, Cost: 9983220.75, Accuracy: 90.90909361839294 %\n",
      "Epoch 85, Cost: 7298628.75, Accuracy: 90.90909361839294 %\n",
      "Epoch 86, Cost: 6243331.25, Accuracy: 90.90909361839294 %\n",
      "Epoch 87, Cost: 5426353.125, Accuracy: 90.90909361839294 %\n",
      "Epoch 88, Cost: 5160434.375, Accuracy: 90.90909361839294 %\n",
      "Epoch 89, Cost: 7170905.125, Accuracy: 88.63636255264282 %\n",
      "Epoch 90, Cost: 10234302.375, Accuracy: 87.5 %\n",
      "Epoch 91, Cost: 10290570.5, Accuracy: 88.63636255264282 %\n",
      "Epoch 92, Cost: 10068107.75, Accuracy: 90.90909361839294 %\n",
      "Epoch 93, Cost: 9232646.25, Accuracy: 92.04545617103577 %\n",
      "Epoch 94, Cost: 8060252.0, Accuracy: 95.45454382896423 %\n",
      "Epoch 95, Cost: 6904742.625, Accuracy: 94.31818127632141 %\n",
      "Epoch 96, Cost: 5581435.625, Accuracy: 95.45454382896423 %\n",
      "Epoch 97, Cost: 4143040.125, Accuracy: 94.31818127632141 %\n",
      "Epoch 98, Cost: 3112491.0, Accuracy: 94.31818127632141 %\n",
      "Epoch 99, Cost: 2138134.5, Accuracy: 94.31818127632141 %\n",
      "Epoch 100, Cost: 1840469.875, Accuracy: 96.59090638160706 %\n",
      "--------------------------------------------------\n",
      "\n",
      "Optimization Finished\n",
      "\n",
      "Accuracy after training on whole dataset Data: 96.59090638160706 %\n"
     ]
    }
   ],
   "source": [
    "with tf.Session() as sess:\n",
    "    sess.run(init) # Running Initializer\n",
    "    cost_hist, acc_hist = [], []\n",
    "    for epoch in range(1, epochs + 1):\n",
    "        # Running Optimizer\n",
    "        sess.run(train_op,\n",
    "                 feed_dict = {\n",
    "                     X1 : train_x,\n",
    "                     Y1 : train_y,\n",
    "                     keep_prob : dropout\n",
    "                 })\n",
    "    \n",
    "        loss, acc = sess.run([loss_op, accuracy],\n",
    "            feed_dict = {\n",
    "                X1 : train_x,\n",
    "                Y1 : train_y,\n",
    "                keep_prob : 1.0\n",
    "            })\n",
    "        loss = sum(loss)\n",
    "        cost_hist.append(loss)\n",
    "        acc_hist.append(acc)\n",
    "        print('Epoch ' + str(epoch) + ', Cost: ' + str(loss) + ', Accuracy: ' + str(acc * 100) + ' %')\n",
    "    print('-' * 50)\n",
    "    print('\\nOptimization Finished\\n')\n",
    "    print('Accuracy after training on whole dataset Data: ' + str(sess.run(accuracy,\n",
    "                                                       feed_dict = {\n",
    "                                                           X1 : train_x,\n",
    "                                                           Y1 : train_y,\n",
    "                                                           keep_prob : 1.0\n",
    "                                                       }) * 100) + ' %')\n",
    "    W = sess.run(weights)\n",
    "    B = sess.run(biases)"
   ]
  },
  {
   "cell_type": "code",
   "execution_count": 131,
   "metadata": {},
   "outputs": [
    {
     "data": {
      "image/png": "[encoded data removed]",
      "text/plain": [
       "<Figure size 432x288 with 1 Axes>"
      ]
     },
     "metadata": {
      "needs_background": "light"
     },
     "output_type": "display_data"
    }
   ],
   "source": [
    "plt.plot(list(range(len(cost_hist))), cost_hist)\n",
    "plt.title(\"Change in cost\")\n",
    "plt.show()"
   ]
  },
  {
   "cell_type": "code",
   "execution_count": 132,
   "metadata": {},
   "outputs": [
    {
     "data": {
      "image/png": "[encoded data removed]",
      "text/plain": [
       "<Figure size 432x288 with 1 Axes>"
      ]
     },
     "metadata": {
      "needs_background": "light"
     },
     "output_type": "display_data"
    }
   ],
   "source": [
    "plt.plot(list(range(len(acc_hist))), acc_hist)\n",
    "plt.title(\"Change in accuracy\")\n",
    "plt.show()"
   ]
  },
  {
   "cell_type": "markdown",
   "metadata": {},
   "source": [
    "# Prediction on Test data"
   ]
  },
  {
   "cell_type": "code",
   "execution_count": 133,
   "metadata": {},
   "outputs": [],
   "source": [
    "X1 = tf.placeholder(tf.float32, shape = [None, inputs]) # Placeholder for Feature Matrix\n",
    "Y2 = tf.placeholder(tf.float32, shape = [None, classes]) # Placeholder for Labels\n",
    "keep_prob = tf.placeholder(tf.float32) "
   ]
  },
  {
   "cell_type": "code",
   "execution_count": 134,
   "metadata": {},
   "outputs": [],
   "source": [
    "y_pred = neural_network(X1, W, B, 1.0)"
   ]
  },
  {
   "cell_type": "code",
   "execution_count": 147,
   "metadata": {},
   "outputs": [],
   "source": [
    "def get_prediction(img):\n",
    "    with tf.Session() as sess:\n",
    "        pred = sess.run(y_pred, feed_dict = { X1 : img, keep_prob : 1.0 })\n",
    "    img = img.reshape(28, 28)\n",
    "    pred = list(pred.flatten())\n",
    "    pred = pred.index(max(pred))*20\n",
    "    return (img, pred)"
   ]
  },
  {
   "cell_type": "code",
   "execution_count": 166,
   "metadata": {},
   "outputs": [],
   "source": [
    "image, pred = get_prediction(test_x[0].reshape(1, 784))"
   ]
  },
  {
   "cell_type": "code",
   "execution_count": 167,
   "metadata": {
    "scrolled": false
   },
   "outputs": [
    {
     "data": {
      "image/png": "[encoded data removed]",
      "text/plain": [
       "<Figure size 432x288 with 1 Axes>"
      ]
     },
     "metadata": {
      "needs_background": "light"
     },
     "output_type": "display_data"
    }
   ],
   "source": [
    "plt.imshow(image, cmap = 'binary')\n",
    "plt.title(pred)\n",
    "plt.show()"
   ]
  },
  {
   "cell_type": "code",
   "execution_count": null,
   "metadata": {},
   "outputs": [],
   "source": []
  }
 ],
 "metadata": {
  "kernelspec": {
   "display_name": "Python 3",
   "language": "python",
   "name": "python3"
  },
  "language_info": {
   "codemirror_mode": {
    "name": "ipython",
    "version": 3
   },
   "file_extension": ".py",
   "mimetype": "text/x-python",
   "name": "python",
   "nbconvert_exporter": "python",
   "pygments_lexer": "ipython3",
   "version": "3.6.8"
  }
 },
 "nbformat": 4,
 "nbformat_minor": 2
}
