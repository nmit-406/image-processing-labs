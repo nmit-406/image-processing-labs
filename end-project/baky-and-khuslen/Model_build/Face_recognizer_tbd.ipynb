{
 "cells": [
  {
   "cell_type": "code",
   "execution_count": 1,
   "metadata": {},
   "outputs": [],
   "source": [
    "import os\n",
    "import numpy as np\n",
    "import cv2\n",
    "import torch\n",
    "from torch import nn\n",
    "from torch import optim\n",
    "import torch.nn.functional as F\n",
    "from torchvision import datasets, transforms, models\n",
    "from glob import glob"
   ]
  },
  {
   "cell_type": "markdown",
   "metadata": {},
   "source": [
    "## Preprocessing"
   ]
  },
  {
   "cell_type": "code",
   "execution_count": 2,
   "metadata": {},
   "outputs": [],
   "source": [
    "transforms = transforms.Compose([\n",
    "    transforms.ToTensor(),\n",
    "])"
   ]
  },
  {
   "cell_type": "code",
   "execution_count": 3,
   "metadata": {},
   "outputs": [],
   "source": [
    "khuslen_dir = glob('./train_pics/khuslen/*')\n",
    "baky_dir = glob('./train_pics/baky/*')\n",
    "other_dir = glob('./train_pics/unknown/*')"
   ]
  },
  {
   "cell_type": "code",
   "execution_count": 4,
   "metadata": {
    "scrolled": true
   },
   "outputs": [],
   "source": [
    "khuslen = [cv2.imread(x) for x in khuslen_dir]\n",
    "baky    = [cv2.imread(x) for x in baky_dir]\n",
    "other   = [cv2.imread(x) for x in other_dir]"
   ]
  },
  {
   "cell_type": "code",
   "execution_count": 5,
   "metadata": {},
   "outputs": [],
   "source": [
    "size = 224\n",
    "khuslen = [cv2.resize(x, (size, size)) for x in khuslen]\n",
    "baky    = [cv2.resize(x, (size, size)) for x in baky]\n",
    "other   = [cv2.resize(x, (size, size)) for x in other]"
   ]
  },
  {
   "cell_type": "code",
   "execution_count": 6,
   "metadata": {},
   "outputs": [],
   "source": [
    "khuslen_gray = [cv2.cvtColor(x, cv2.COLOR_BGR2GRAY) for x in khuslen]\n",
    "baky_gray    = [cv2.cvtColor(x, cv2.COLOR_BGR2GRAY) for x in baky]\n",
    "other_gray   = [cv2.cvtColor(x, cv2.COLOR_BGR2GRAY) for x in other]"
   ]
  },
  {
   "cell_type": "code",
   "execution_count": 7,
   "metadata": {},
   "outputs": [
    {
     "data": {
      "text/plain": [
       "array([[252, 252, 252, ..., 213, 213, 213],\n",
       "       [252, 252, 252, ..., 213, 211, 211],\n",
       "       [252, 252, 252, ..., 212, 210, 213],\n",
       "       ...,\n",
       "       [142, 146, 151, ..., 224, 224, 224],\n",
       "       [151, 148, 138, ..., 224, 224, 224],\n",
       "       [154, 149, 155, ..., 224, 224, 224]], dtype=uint8)"
      ]
     },
     "execution_count": 7,
     "metadata": {},
     "output_type": "execute_result"
    }
   ],
   "source": [
    "khuslen_gray[0]"
   ]
  },
  {
   "cell_type": "code",
   "execution_count": 8,
   "metadata": {
    "scrolled": true
   },
   "outputs": [
    {
     "data": {
      "text/plain": [
       "(224, 224)"
      ]
     },
     "execution_count": 8,
     "metadata": {},
     "output_type": "execute_result"
    }
   ],
   "source": [
    "khuslen_gray[0].shape"
   ]
  },
  {
   "cell_type": "code",
   "execution_count": 9,
   "metadata": {},
   "outputs": [
    {
     "data": {
      "text/plain": [
       "(224, 224, 3)"
      ]
     },
     "execution_count": 9,
     "metadata": {},
     "output_type": "execute_result"
    }
   ],
   "source": [
    "khuslen[0].shape"
   ]
  },
  {
   "cell_type": "code",
   "execution_count": 10,
   "metadata": {},
   "outputs": [],
   "source": [
    "dkhuslen = [transforms(x) for x in khuslen_gray]\n",
    "dbaky = [transforms(x) for x in baky_gray]\n",
    "dother = [transforms(x) for x in other_gray]"
   ]
  },
  {
   "cell_type": "code",
   "execution_count": 12,
   "metadata": {},
   "outputs": [
    {
     "data": {
      "text/plain": [
       "torch.Size([1, 224, 224])"
      ]
     },
     "execution_count": 12,
     "metadata": {},
     "output_type": "execute_result"
    }
   ],
   "source": [
    "dkhuslen[0].shape"
   ]
  },
  {
   "cell_type": "code",
   "execution_count": null,
   "metadata": {},
   "outputs": [],
   "source": []
  }
 ],
 "metadata": {
  "kernelspec": {
   "display_name": "Python 3",
   "language": "python",
   "name": "python3"
  },
  "language_info": {
   "codemirror_mode": {
    "name": "ipython",
    "version": 3
   },
   "file_extension": ".py",
   "mimetype": "text/x-python",
   "name": "python",
   "nbconvert_exporter": "python",
   "pygments_lexer": "ipython3",
   "version": "3.7.3"
  }
 },
 "nbformat": 4,
 "nbformat_minor": 2
}
