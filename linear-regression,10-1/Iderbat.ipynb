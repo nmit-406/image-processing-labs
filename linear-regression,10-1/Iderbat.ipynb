{
 "cells": [
  {
   "cell_type": "code",
   "execution_count": 3,
   "metadata": {},
   "outputs": [],
   "source": [
    "import numpy as np\n",
    "import pandas as pd"
   ]
  },
  {
   "cell_type": "code",
   "execution_count": 4,
   "metadata": {},
   "outputs": [],
   "source": [
    "data = pd.read_csv(\"data.csv\",header=None)"
   ]
  },
  {
   "cell_type": "code",
   "execution_count": 5,
   "metadata": {},
   "outputs": [
    {
     "data": {
      "text/plain": [
       "0    35\n",
       "1    50\n",
       "2    65\n",
       "3    80\n",
       "Name: 0, dtype: int64"
      ]
     },
     "execution_count": 5,
     "metadata": {},
     "output_type": "execute_result"
    }
   ],
   "source": [
    "data[0]"
   ]
  },
  {
   "cell_type": "code",
   "execution_count": 6,
   "metadata": {},
   "outputs": [],
   "source": [
    "\n",
    "def computeLoss(X,Y,a):\n",
    "    Loss=0\n",
    "    for i in range(len(X)):\n",
    "        Loss+=(X[i]*a-Y[i])**2/len(X)\n",
    "    return Loss"
   ]
  },
  {
   "cell_type": "code",
   "execution_count": 7,
   "metadata": {},
   "outputs": [],
   "source": [
    "def computeGrad(X,Y,a):\n",
    "    grad=0\n",
    "    for i in range(len(X)):\n",
    "        grad+=2*X[i]*X[i]*a-2*X[i]*Y[i]\n",
    "        \n",
    "    return grad"
   ]
  },
  {
   "cell_type": "code",
   "execution_count": null,
   "metadata": {},
   "outputs": [],
   "source": []
  },
  {
   "cell_type": "code",
   "execution_count": 8,
   "metadata": {},
   "outputs": [],
   "source": [
    "epoch=10\n",
    "learning_rate=0.001"
   ]
  },
  {
   "cell_type": "code",
   "execution_count": 9,
   "metadata": {},
   "outputs": [],
   "source": [
    "a=np.random.random_sample()"
   ]
  },
  {
   "cell_type": "code",
   "execution_count": 10,
   "metadata": {},
   "outputs": [
    {
     "data": {
      "text/plain": [
       "0.9874354844371267"
      ]
     },
     "execution_count": 10,
     "metadata": {},
     "output_type": "execute_result"
    }
   ],
   "source": [
    "a"
   ]
  },
  {
   "cell_type": "code",
   "execution_count": 11,
   "metadata": {},
   "outputs": [
    {
     "name": "stdout",
     "output_type": "stream",
     "text": [
      "epoch: 1\n",
      " Loss: 195.48025872127\n",
      "    a: 0.9874354844371267\n",
      "--------------------------\n",
      "epoch: 2\n",
      " Loss: 74253.82896424324\n",
      "    a: 5.698037081091591\n",
      "--------------------------\n",
      "epoch: 3\n",
      " Loss: 56898484.207224175\n",
      "    a: -124.78562714623705\n",
      "--------------------------\n",
      "epoch: 4\n",
      " Loss: 43657562211.14228\n",
      "    a: 3489.611871950766\n",
      "--------------------------\n",
      "epoch: 5\n",
      " Loss: 33498010833251.145\n",
      "    a: -96629.19885303621\n",
      "--------------------------\n",
      "epoch: 6\n",
      " Loss: 2.570268873216953e+16\n",
      "    a: 2676661.858229103\n",
      "--------------------------\n",
      "epoch: 7\n",
      " Loss: 1.972141603730629e+19\n",
      "    a: -74143500.42294617\n",
      "--------------------------\n",
      "epoch: 8\n",
      " Loss: 1.5132045311264747e+22\n",
      "    a: 2053774994.765609\n",
      "--------------------------\n",
      "epoch: 9\n",
      " Loss: 1.1610667046880328e+25\n",
      "    a: -56889567321.957375\n",
      "--------------------------\n",
      "epoch: 10\n",
      " Loss: 8.908748718400809e+27\n",
      "    a: 1575841014851.2693\n",
      "--------------------------\n"
     ]
    }
   ],
   "source": [
    "for i in range(epoch):\n",
    "    print(\"epoch:\",i+1)\n",
    "    print(\" Loss:\",computeLoss(data[0],data[1],a))\n",
    "    print(\"    a: \"+str(a))\n",
    "    print(\"--------------------------\")\n",
    "    a=a-computeGrad(data[0],data[1],a)*learning_rate\n"
   ]
  },
  {
   "cell_type": "code",
   "execution_count": null,
   "metadata": {},
   "outputs": [],
   "source": []
  }
 ],
 "metadata": {
  "kernelspec": {
   "display_name": "Python 3",
   "language": "python",
   "name": "python3"
  },
  "language_info": {
   "codemirror_mode": {
    "name": "ipython",
    "version": 3
   },
   "file_extension": ".py",
   "mimetype": "text/x-python",
   "name": "python",
   "nbconvert_exporter": "python",
   "pygments_lexer": "ipython3",
   "version": "3.6.8"
  }
 },
 "nbformat": 4,
 "nbformat_minor": 2
}
