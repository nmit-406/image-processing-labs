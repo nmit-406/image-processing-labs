{
 "cells": [
  {
   "cell_type": "code",
   "execution_count": 92,
   "metadata": {},
   "outputs": [],
   "source": [
    "import numpy as np\n",
    "import pandas as pd"
   ]
  },
  {
   "cell_type": "code",
   "execution_count": 93,
   "metadata": {},
   "outputs": [],
   "source": [
    "data = pd.read_csv(\"data.csv\",header=None)"
   ]
  },
  {
   "cell_type": "code",
   "execution_count": 94,
   "metadata": {},
   "outputs": [
    {
     "data": {
      "text/plain": [
       "0    35\n",
       "1    50\n",
       "2    65\n",
       "3    80\n",
       "Name: 0, dtype: int64"
      ]
     },
     "execution_count": 94,
     "metadata": {},
     "output_type": "execute_result"
    }
   ],
   "source": [
    "data[0]"
   ]
  },
  {
   "cell_type": "code",
   "execution_count": 95,
   "metadata": {},
   "outputs": [],
   "source": [
    "\n",
    "def computeLoss(X,Y,a):\n",
    "    Loss=0\n",
    "    for i in range(len(X)):\n",
    "        Loss+=(X[i]*a-Y[i])**2/len(X)\n",
    "    return Loss"
   ]
  },
  {
   "cell_type": "code",
   "execution_count": 105,
   "metadata": {},
   "outputs": [],
   "source": [
    "def computeGrad(X,Y,a):\n",
    "    grad=0\n",
    "    for i in range(len(X)):\n",
    "        grad+=2*X[i]*X[i]*a-2*X[i]*Y[i]\n",
    "        \n",
    "    return grad"
   ]
  },
  {
   "cell_type": "code",
   "execution_count": null,
   "metadata": {},
   "outputs": [],
   "source": []
  },
  {
   "cell_type": "code",
   "execution_count": 111,
   "metadata": {},
   "outputs": [],
   "source": [
    "epoch=10\n",
    "learning_rate=0.00001"
   ]
  },
  {
   "cell_type": "code",
   "execution_count": 108,
   "metadata": {},
   "outputs": [],
   "source": [
    "a=np.random.random_sample()"
   ]
  },
  {
   "cell_type": "code",
   "execution_count": 109,
   "metadata": {},
   "outputs": [
    {
     "data": {
      "text/plain": [
       "0.7988085223150291"
      ]
     },
     "execution_count": 109,
     "metadata": {},
     "output_type": "execute_result"
    }
   ],
   "source": [
    "a"
   ]
  },
  {
   "cell_type": "code",
   "execution_count": 112,
   "metadata": {},
   "outputs": [
    {
     "name": "stdout",
     "output_type": "stream",
     "text": [
      "epoch: 1\n",
      " Loss: 98.83493031358883\n",
      "    a: 1.1515679442508704\n",
      "--------------------------\n",
      "epoch: 2\n",
      " Loss: 98.83493031358883\n",
      "    a: 1.1515679442508706\n",
      "--------------------------\n",
      "epoch: 3\n",
      " Loss: 98.83493031358887\n",
      "    a: 1.1515679442508708\n",
      "--------------------------\n",
      "epoch: 4\n",
      " Loss: 98.83493031358887\n",
      "    a: 1.1515679442508708\n",
      "--------------------------\n",
      "epoch: 5\n",
      " Loss: 98.83493031358887\n",
      "    a: 1.1515679442508708\n",
      "--------------------------\n",
      "epoch: 6\n",
      " Loss: 98.83493031358887\n",
      "    a: 1.1515679442508708\n",
      "--------------------------\n",
      "epoch: 7\n",
      " Loss: 98.83493031358887\n",
      "    a: 1.1515679442508708\n",
      "--------------------------\n",
      "epoch: 8\n",
      " Loss: 98.83493031358887\n",
      "    a: 1.1515679442508708\n",
      "--------------------------\n",
      "epoch: 9\n",
      " Loss: 98.83493031358887\n",
      "    a: 1.1515679442508708\n",
      "--------------------------\n",
      "epoch: 10\n",
      " Loss: 98.83493031358887\n",
      "    a: 1.1515679442508708\n",
      "--------------------------\n"
     ]
    }
   ],
   "source": [
    "for i in range(epoch):\n",
    "    print(\"epoch:\",i+1)\n",
    "    print(\" Loss:\",computeLoss(data[0],data[1],a))\n",
    "    print(\"    a: \"+str(a))\n",
    "    print(\"--------------------------\")\n",
    "    a=a-computeGrad(data[0],data[1],a)*learning_rate\n"
   ]
  },
  {
   "cell_type": "code",
   "execution_count": null,
   "metadata": {},
   "outputs": [],
   "source": []
  }
 ],
 "metadata": {
  "kernelspec": {
   "display_name": "Python 3",
   "language": "python",
   "name": "python3"
  },
  "language_info": {
   "codemirror_mode": {
    "name": "ipython",
    "version": 3
   },
   "file_extension": ".py",
   "mimetype": "text/x-python",
   "name": "python",
   "nbconvert_exporter": "python",
   "pygments_lexer": "ipython3",
   "version": "3.6.8"
  }
 },
 "nbformat": 4,
 "nbformat_minor": 2
}
