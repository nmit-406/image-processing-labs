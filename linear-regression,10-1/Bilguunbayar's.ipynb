{
 "cells": [
  {
   "cell_type": "code",
   "execution_count": 45,
   "metadata": {},
   "outputs": [],
   "source": [
    "import random"
   ]
  },
  {
   "cell_type": "code",
   "execution_count": 46,
   "metadata": {},
   "outputs": [],
   "source": [
    "def computeLoss(x,y,a):\n",
    "    loss=0\n",
    "    for i in range(0,4):\n",
    "        loss+=(x[i]*a-y[i])**2\n",
    "    return loss/4"
   ]
  },
  {
   "cell_type": "code",
   "execution_count": 47,
   "metadata": {},
   "outputs": [],
   "source": [
    "def computeGrad(x,y,a):\n",
    "    grad=0\n",
    "    grad+=(2*x*x*a-2*x*y)/4\n",
    "    return grad"
   ]
  },
  {
   "cell_type": "code",
   "execution_count": 49,
   "metadata": {},
   "outputs": [
    {
     "name": "stdout",
     "output_type": "stream",
     "text": [
      "0 loss: 221081.25\n",
      "0 a: 9\n",
      "1 loss: 10469.73063858567\n",
      "1 a: -0.5486796875000006\n",
      "2 loss: 1239.0302627304195\n",
      "2 a: 1.715327186218261\n",
      "3 loss: 101.44241162821014\n",
      "3 a: 1.1785276189489224\n",
      "4 loss: 184.17670620116326\n",
      "4 a: 1.3058036350978057\n",
      "5 loss: 154.04825523169927\n",
      "5 a: 1.2756262928001303\n",
      "6 loss: 160.60080219172423\n",
      "6 a: 1.2827813878110064\n",
      "7 loss: 159.01396121546094\n",
      "7 a: 1.2810849036040914\n",
      "8 loss: 159.3883360524096\n",
      "8 a: 1.2814871426603083\n",
      "9 loss: 159.2994662003231\n",
      "9 a: 1.2813917711515808\n"
     ]
    }
   ],
   "source": [
    "x=[35,50,65,80]\n",
    "y=[50,70,75,80]\n",
    "a=random.randint(1,100)\n",
    "epoch=10\n",
    "learning_rate=0.001\n",
    "for i in range(0,epoch):\n",
    "    print(str(i)+\" loss: \"+str(computeLoss(x,y,a)))\n",
    "    print(str(i)+\" a: \"+str(a))\n",
    "    for j in range(0,4):\n",
    "        a=a-learning_rate*computeGrad(x[j],y[j],a)"
   ]
  },
  {
   "cell_type": "code",
   "execution_count": null,
   "metadata": {},
   "outputs": [],
   "source": []
  }
 ],
 "metadata": {
  "kernelspec": {
   "display_name": "Python 3",
   "language": "python",
   "name": "python3"
  },
  "language_info": {
   "codemirror_mode": {
    "name": "ipython",
    "version": 3
   },
   "file_extension": ".py",
   "mimetype": "text/x-python",
   "name": "python",
   "nbconvert_exporter": "python",
   "pygments_lexer": "ipython3",
   "version": "3.6.8"
  }
 },
 "nbformat": 4,
 "nbformat_minor": 2
}
